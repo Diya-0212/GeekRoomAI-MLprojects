{
 "cells": [
  {
   "cell_type": "code",
   "execution_count": 21,
   "id": "cb152423-587d-4dff-a172-c19ed1dd907c",
   "metadata": {},
   "outputs": [],
   "source": [
    "#importing data\n",
    "import pandas as pd\n",
    "music_data=pd.read_csv('music.csv')"
   ]
  },
  {
   "cell_type": "code",
   "execution_count": 23,
   "id": "51fb6c8b-8fcb-4444-954d-d80976fbf19e",
   "metadata": {},
   "outputs": [],
   "source": [
    "#splitting data to input and output sets\n",
    "X=music_data.drop(columns=['genre'])\n",
    "y=music_data['genre']\n"
   ]
  },
  {
   "cell_type": "code",
   "execution_count": 15,
   "id": "11b70a36-e9b5-4ef6-a1ad-d63016897dce",
   "metadata": {},
   "outputs": [
    {
     "name": "stderr",
     "output_type": "stream",
     "text": [
      "C:\\Users\\Diya\\anaconda3\\Lib\\site-packages\\sklearn\\base.py:493: UserWarning: X does not have valid feature names, but DecisionTreeClassifier was fitted with feature names\n",
      "  warnings.warn(\n"
     ]
    },
    {
     "data": {
      "text/plain": [
       "array(['HipHop', 'Dance'], dtype=object)"
      ]
     },
     "execution_count": 15,
     "metadata": {},
     "output_type": "execute_result"
    }
   ],
   "source": [
    "#learning and predicting(algorithm)\n",
    "from sklearn.tree import DecisionTreeClassifier\n",
    "\n",
    "model=DecisionTreeClassifier()\n",
    "model.fit(X,y)\n",
    "predictions=model.predict([[21,1],[22,0]])\n",
    "predictions"
   ]
  },
  {
   "cell_type": "code",
   "execution_count": 19,
   "id": "d9a5e0c2-d8e9-4064-bfd9-659e2754dc85",
   "metadata": {},
   "outputs": [
    {
     "data": {
      "text/plain": [
       "1.0"
      ]
     },
     "execution_count": 19,
     "metadata": {},
     "output_type": "execute_result"
    }
   ],
   "source": [
    "#checking accuracy\n",
    "from sklearn.model_selection import train_test_split\n",
    "from sklearn.metrics import accuracy_score\n",
    "\n",
    "X_train,X_test,y_train,y_test=train_test_split(X,y,test_size=0.2)\n",
    "\n",
    "model.fit(X_train,y_train)\n",
    "predictions=model.predict(X_test)\n",
    "\n",
    "score=accuracy_score(y_test,predictions)\n",
    "score"
   ]
  },
  {
   "cell_type": "code",
   "execution_count": null,
   "id": "6687a8f7-5347-4271-9493-4339580e8752",
   "metadata": {},
   "outputs": [],
   "source": [
    "#model persistance\n",
    "import joblib\n",
    "\n",
    "joblib.dump(model,'music_recommender.joblib')"
   ]
  },
  {
   "cell_type": "code",
   "execution_count": 80,
   "id": "a057f9cf-ae17-4b5c-91eb-08715e4d890d",
   "metadata": {},
   "outputs": [
    {
     "name": "stderr",
     "output_type": "stream",
     "text": [
      "C:\\Users\\Diya\\anaconda3\\Lib\\site-packages\\sklearn\\base.py:493: UserWarning: X does not have valid feature names, but DecisionTreeClassifier was fitted with feature names\n",
      "  warnings.warn(\n"
     ]
    },
    {
     "data": {
      "text/plain": [
       "array(['HipHop'], dtype=object)"
      ]
     },
     "execution_count": 80,
     "metadata": {},
     "output_type": "execute_result"
    }
   ],
   "source": [
    "#loading model\n",
    "import pandas as pd\n",
    "from sklearn.tree import DecisionTreeClassifier\n",
    "import joblib\n",
    "\n",
    "# music_data=pd.read_csv('music.csv')\n",
    "# X=music_data.drop(columns=[\"genre\"])\n",
    "# y=music_data['genre']\n",
    "\n",
    "# model=DecisionTreeClassifier()\n",
    "# model.fit(X,y)\n",
    "\n",
    "model=joblib.load('music-recommender.joblib')\n",
    "\n",
    "predictions=model.predict([[21,1]])\n",
    "predictions\n"
   ]
  },
  {
   "cell_type": "code",
   "execution_count": null,
   "id": "3a8f3d12-2563-4e9a-ab13-42a02930ccb7",
   "metadata": {},
   "outputs": [],
   "source": []
  },
  {
   "cell_type": "code",
   "execution_count": 82,
   "id": "cb7d8f52-7880-480e-9d41-742ed4839473",
   "metadata": {},
   "outputs": [],
   "source": [
    "import pandas as pd\n",
    "from sklearn.tree import DecisionTreeClassifier\n",
    "from sklearn import tree\n",
    "\n",
    "music_data=pd.read_csv('music.csv')\n",
    "X=music_data.drop(columns=[\"genre\"])\n",
    "y=music_data['genre']\n",
    "\n",
    "model=DecisionTreeClassifier()\n",
    "model.fit(X,y)\n",
    "\n",
    "tree.export_graphviz(model,out_file='music-recommended.dot.',\n",
    "                    feature_names=['age','gender'],\n",
    "                    class_names=sorted(y.unique()),\n",
    "                     label='all',\n",
    "                     rounded=True, filled=True)\n",
    "\n"
   ]
  }
 ],
 "metadata": {
  "kernelspec": {
   "display_name": "Python 3 (ipykernel)",
   "language": "python",
   "name": "python3"
  },
  "language_info": {
   "codemirror_mode": {
    "name": "ipython",
    "version": 3
   },
   "file_extension": ".py",
   "mimetype": "text/x-python",
   "name": "python",
   "nbconvert_exporter": "python",
   "pygments_lexer": "ipython3",
   "version": "3.12.7"
  }
 },
 "nbformat": 4,
 "nbformat_minor": 5
}
